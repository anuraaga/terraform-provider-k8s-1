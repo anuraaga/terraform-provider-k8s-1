{
  "cells": [
    {
      "cell_type": "markdown",
      "metadata": {},
      "source": [
        "## Alluxio with Spark and Minio Demo\n",
        "This is a demonstration of a data analystics stack using Alluxio to integrate Minio for storage, Spark for processing, and Jupyter notebook with Beakerx.\n",
        "\n",
        "## Requirements\n",
        "- Alluxio 2.0.0-preview\n",
        "- Spark 2.3.3 with Hadoop 2.7.3\n",
        "- Minio 2019-04-23\n",
        "- Jupterlab 0.35.5\n",
        "- Beakerx 1.4.1"
      ]
    },
    {
      "cell_type": "markdown",
      "metadata": {},
      "source": [
        "## Install Beakerx using Scala kernel"
      ]
    },
    {
      "cell_type": "code",
      "execution_count": null,
      "metadata": {},
      "outputs": [],
      "source": [
        "import sys.process._\n",
        "\"conda install -y maven beakerx\"!"
      ]
    },
    {
      "cell_type": "markdown",
      "metadata": {},
      "source": [
        "## Setup Classpath\n",
        "- The Alluxio Maven POM has hadoop-common as a hard dependency.  This conflicts with the hadoop jars on the Spark worker side.  The workaround(below) is to manually construct a classpath that excludes the hadoop classes.\n",
        "- In addition, Alluxio uses later version of Protobuf and Guava.  The Netty jars are only needed for this Jupyter notebook."
      ]
    },
    {
      "cell_type": "code",
      "execution_count": 1,
      "metadata": {},
      "outputs": [
        {
          "data": {
            "application/vnd.jupyter.widget-view+json": {
              "model_id": "159e1e78-3676-49d5-85e6-d32cd48b9716",
              "version_major": 2,
              "version_minor": 0
            },
            "method": "display_data"
          },
          "metadata": {},
          "output_type": "display_data"
        },
        {
          "data": {
            "application/vnd.jupyter.widget-view+json": {
              "model_id": "c18271d0-d538-433a-8d9a-a3ad9a0197ee",
              "version_major": 2,
              "version_minor": 0
            },
            "method": "display_data"
          },
          "metadata": {},
          "output_type": "display_data"
        }
      ],
      "source": [
        "%%classpath add mvn \n",
        "com.google.protobuf protobuf-java 3.7.1\n",
        "com.google.guava guava 20.0\n",
        "io.netty netty-all 4.1.17.Final\n",
        "org.apache.hadoop hadoop-common 2.7.3\n",
        "org.apache.hadoop hadoop-client 2.7.3\n",
        "org.apache.spark spark-sql_2.11 2.3.3\n",
        "org.alluxio alluxio-core-client-runtime 2.0.0-preview"
      ]
    },
    {
      "cell_type": "markdown",
      "metadata": {},
      "source": [
        "## Be sure not to include the hadoop jars in the classpath"
      ]
    },
    {
      "cell_type": "code",
      "execution_count": 2,
      "metadata": {},
      "outputs": [
        {
          "data": {
            "text/plain": [
              "$line25.$read$$iw$$iw$$iw$$iw$$iw$$iw$$iw$$iw$$iw$$iw$$iw$$iw$$iw$$iw$$iw$$iw$$iw$$iw$$iw$$iw$$anon$1@41fa4465"
            ]
          },
          "execution_count": 2,
          "metadata": {},
          "output_type": "execute_result"
        }
      ],
      "source": [
        "import java.io._\n",
        "val jars = ClasspathManager.getJars().toArray\n",
        "    .filter(x => \n",
        "            x.toString.contains(\"/guava\") || \n",
        "            x.toString.contains(\"/protobuf\")|| \n",
        "            x.toString.contains(\"alluxio\")||\n",
        "            x.toString.contains(\"/grpc\") ||\n",
        "            x.toString.contains(\"/opencensus\")\n",
        "           )\n",
        "    .mkString(\",\")\n",
        "new PrintWriter(new File(\"jars.txt\" )){write(jars); close()}"
      ]
    },
    {
      "cell_type": "markdown",
      "metadata": {},
      "source": [
        "## DNS is not always avaliable.  Using IP address is safer."
      ]
    },
    {
      "cell_type": "code",
      "execution_count": 3,
      "metadata": {},
      "outputs": [
        {
          "data": {
            "text/plain": [
              "250.2.146.2\n"
            ]
          },
          "execution_count": 3,
          "metadata": {},
          "output_type": "execute_result"
        }
      ],
      "source": [
        "import sys.process._\n",
        "val ip = \"hostname -i\"!!"
      ]
    },
    {
      "cell_type": "markdown",
      "metadata": {},
      "source": [
        "## Create the Spark Session\n",
        "- Note the classpath(from above) is loaded and put in the front of the classpath on the Spark worker\n",
        "- Be sure to set the master and driver IP of your Spark cluster"
      ]
    },
    {
      "cell_type": "code",
      "execution_count": 4,
      "metadata": {},
      "outputs": [
        {
          "name": "stdout",
          "output_type": "stream",
          "text": [
            "SparkSession is available by 'spark'\n"
          ]
        }
      ],
      "source": [
        "%%spark --noUI\n",
        "import org.apache.spark.sql.SparkSession\n",
        "import scala.io.Source\n",
        "val cp = Source.fromFile(\"jars.txt\").getLines.mkString\n",
        "val spark = SparkSession.builder()\n",
        "    .appName(\"Simple Application\")\n",
        "    .master(\"spark://spark-master.spark.svc.cluster.local:7077\")\n",
        "    .config(\"spark.driver.host\", \"250.2.146.2\")\n",
        "    .config(\"spark.driver.userClassPathFirst\", \"true\")\n",
        "    .config(\"spark.executor.userClassPathFirst\", \"true\")\n",
        "    .config(\"spark.jars\", cp)"
      ]
    },
    {
      "cell_type": "markdown",
      "metadata": {},
      "source": [
        "## The Spark cluster is not hardcoded to work with Alluxio so we dynamically configure the classpath(above) and setup HDFS here."
      ]
    },
    {
      "cell_type": "code",
      "execution_count": 5,
      "metadata": {},
      "outputs": [],
      "source": [
        "spark.sparkContext.hadoopConfiguration.set(\"fs.alluxio.impl\", \"alluxio.hadoop.FileSystem\")"
      ]
    },
    {
      "cell_type": "markdown",
      "metadata": {},
      "source": [
        "## This is just a sample file I have uploaded to Minio.  You can use any file."
      ]
    },
    {
      "cell_type": "code",
      "execution_count": 6,
      "metadata": {},
      "outputs": [
        {
          "data": {
            "text/plain": [
              "alluxio://alluxio-master.alluxio.svc.cluster.local:19998/TitanicPassengersTrainData.csv MapPartitionsRDD[1] at textFile at <console>:108"
            ]
          },
          "execution_count": 6,
          "metadata": {},
          "output_type": "execute_result"
        }
      ],
      "source": [
        "val textFile = spark.sparkContext.textFile(\"alluxio://alluxio-master.alluxio.svc.cluster.local:19998/TitanicPassengersTrainData.csv\")"
      ]
    },
    {
      "cell_type": "markdown",
      "metadata": {},
      "source": [
        "## If everything works, you should see the correct count."
      ]
    },
    {
      "cell_type": "code",
      "execution_count": 7,
      "metadata": {},
      "outputs": [
        {
          "data": {
            "text/plain": [
              "891"
            ]
          },
          "execution_count": 7,
          "metadata": {},
          "output_type": "execute_result"
        }
      ],
      "source": [
        "textFile.count()"
      ]
    },
    {
      "cell_type": "markdown",
      "metadata": {},
      "source": [
        "## Clean"
      ]
    },
    {
      "cell_type": "code",
      "execution_count": 8,
      "metadata": {},
      "outputs": [],
      "source": [
        "spark.close()"
      ]
    }
  ],
  "metadata": {
    "kernelspec": {
      "display_name": "Scala",
      "language": "scala",
      "name": "scala"
    },
    "language_info": {
      "codemirror_mode": "text/x-scala",
      "file_extension": ".scala",
      "mimetype": "",
      "name": "Scala",
      "nbconverter_exporter": "",
      "version": "2.11.12"
    }
  },
  "nbformat": 4,
  "nbformat_minor": 2
}

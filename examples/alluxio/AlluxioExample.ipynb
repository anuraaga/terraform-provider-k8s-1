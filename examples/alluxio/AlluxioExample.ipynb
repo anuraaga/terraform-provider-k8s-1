{
  "cells": [
    {
      "cell_type": "markdown",
      "metadata": {},
      "source": [
        "## Alluxio with Spark and Minio Demo\n",
        "This is a demonstration of a data analystics stack using Alluxio with Fuse, Minio for storage, Spark for processing, and Jupyter notebook with Beakerx.\n",
        "\n",
        "## Requirements\n",
        "- Alluxio 2.0.0-SNAPSHOT\n",
        "- Spark 2.3.3 with Hadoop 2.7.3\n",
        "- Minio 2019-04-23\n",
        "- Jupterlab 0.35.5\n",
        "- Beakerx 1.4.1\n",
        "- Fuse volume mounted as \"/alluxio\" on all Spark Workers"
      ]
    },
    {
      "cell_type": "markdown",
      "metadata": {},
      "source": [
        "## Install Beakerx using Spylon kernel"
      ]
    },
    {
      "cell_type": "code",
      "execution_count": null,
      "metadata": {},
      "outputs": [],
      "source": [
        "import sys.process._\n",
        "\"conda install -y maven beakerx\"!"
      ]
    },
    {
      "cell_type": "markdown",
      "metadata": {},
      "source": [
        "## Setup Classpath\n",
        "Optionally use local caching proxy"
      ]
    },
    {
      "cell_type": "code",
      "execution_count": 2,
      "metadata": {},
      "outputs": [
        {
          "name": "stdout",
          "output_type": "stream",
          "text": [
            "Added new repo: proxy\n"
          ]
        }
      ],
      "source": [
        "%classpath config resolver proxy http://nexus.rebelsoft.com/repository/maven-public/"
      ]
    },
    {
      "cell_type": "code",
      "execution_count": 3,
      "metadata": {},
      "outputs": [
        {
          "data": {
            "application/vnd.jupyter.widget-view+json": {
              "model_id": "d7ed0502-354b-4fe0-aec3-c989f5decab9",
              "version_major": 2,
              "version_minor": 0
            },
            "method": "display_data"
          },
          "metadata": {},
          "output_type": "display_data"
        },
        {
          "data": {
            "application/vnd.jupyter.widget-view+json": {
              "model_id": "d0ede4d3-f1af-4460-8dee-23e6f46c837a",
              "version_major": 2,
              "version_minor": 0
            },
            "method": "display_data"
          },
          "metadata": {},
          "output_type": "display_data"
        }
      ],
      "source": [
        "%%classpath add mvn \n",
        "org.apache.spark spark-sql_2.11 2.4.3"
      ]
    },
    {
      "cell_type": "markdown",
      "metadata": {},
      "source": [
        "## Create the Spark Session"
      ]
    },
    {
      "cell_type": "code",
      "execution_count": 4,
      "metadata": {},
      "outputs": [
        {
          "data": {
            "text/plain": [
              "org.apache.spark.sql.SparkSession@4fd59aad"
            ]
          },
          "execution_count": 4,
          "metadata": {},
          "output_type": "execute_result"
        }
      ],
      "source": [
        "import org.apache.spark.SparkConf\n",
        "import org.apache.spark.sql.SparkSession\n",
        "import sys.process._\n",
        "val ip = (\"hostname -i\"!!).stripLineEnd\n",
        "val conf = new SparkConf()\n",
        "    .setAppName(\"AlluxioExample\")\n",
        "//     .setMaster(\"local[*]\")\n",
        "    .setMaster(\"spark://spark-master.spark.svc.cluster.local:7077\")\n",
        "    .set(\"spark.driver.host\", s\"$ip\")\n",
        "implicit val spark = SparkSession.builder.config(conf).getOrCreate()"
      ]
    },
    {
      "cell_type": "markdown",
      "metadata": {},
      "source": [
        "## This is just a sample file I have uploaded to Minio.  You can use any file."
      ]
    },
    {
      "cell_type": "code",
      "execution_count": 5,
      "metadata": {},
      "outputs": [
        {
          "data": {
            "text/plain": [
              "/alluxio/TitanicPassengersTrainData.csv MapPartitionsRDD[1] at textFile at <console>:97"
            ]
          },
          "execution_count": 5,
          "metadata": {},
          "output_type": "execute_result"
        }
      ],
      "source": [
        "val textFile = spark.sparkContext.textFile(\"/alluxio/TitanicPassengersTrainData.csv\")"
      ]
    },
    {
      "cell_type": "markdown",
      "metadata": {},
      "source": [
        "## If everything works, you should see the correct count."
      ]
    },
    {
      "cell_type": "code",
      "execution_count": 6,
      "metadata": {},
      "outputs": [
        {
          "data": {
            "text/plain": [
              "891"
            ]
          },
          "execution_count": 6,
          "metadata": {},
          "output_type": "execute_result"
        }
      ],
      "source": [
        "textFile.count()"
      ]
    },
    {
      "cell_type": "markdown",
      "metadata": {},
      "source": [
        "## Clean"
      ]
    },
    {
      "cell_type": "code",
      "execution_count": 7,
      "metadata": {},
      "outputs": [],
      "source": [
        "spark.close()"
      ]
    },
    {
      "cell_type": "code",
      "execution_count": null,
      "metadata": {},
      "outputs": [],
      "source": []
    }
  ],
  "metadata": {
    "kernelspec": {
      "display_name": "Scala",
      "language": "scala",
      "name": "scala"
    },
    "language_info": {
      "codemirror_mode": "text/x-scala",
      "file_extension": ".scala",
      "mimetype": "",
      "name": "Scala",
      "nbconverter_exporter": "",
      "version": "2.11.12"
    }
  },
  "nbformat": 4,
  "nbformat_minor": 2
}
